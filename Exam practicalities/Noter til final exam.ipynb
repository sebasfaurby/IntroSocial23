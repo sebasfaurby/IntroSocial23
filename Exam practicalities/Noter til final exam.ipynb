{
 "cells": [
  {
   "cell_type": "markdown",
   "id": "e4f91a9e-25c0-4d61-ac9c-5d7fa255be6d",
   "metadata": {},
   "source": [
    "### Noter til eksamen"
   ]
  },
  {
   "cell_type": "markdown",
   "id": "e441c238-63a1-440c-9375-d36a2289df55",
   "metadata": {},
   "source": [
    "1. Skaf en lille andel af data først\n",
    "Start med at se hvor meget man kan scrape og hvor meget man kan arbejde med det.\n",
    "På den måde kan man se 'dead ends' på forhånd\n",
    "\n",
    "2. fordel arbejdet\n",
    "Det kan måske bestale sig at fordele arbejde. F.eks. nogle scraper andre laver struktur, osv.\n",
    "\n",
    "3. Brug github!"
   ]
  }
 ],
 "metadata": {
  "kernelspec": {
   "display_name": "Python 3 (ipykernel)",
   "language": "python",
   "name": "python3"
  },
  "language_info": {
   "codemirror_mode": {
    "name": "ipython",
    "version": 3
   },
   "file_extension": ".py",
   "mimetype": "text/x-python",
   "name": "python",
   "nbconvert_exporter": "python",
   "pygments_lexer": "ipython3",
   "version": "3.11.3"
  }
 },
 "nbformat": 4,
 "nbformat_minor": 5
}
