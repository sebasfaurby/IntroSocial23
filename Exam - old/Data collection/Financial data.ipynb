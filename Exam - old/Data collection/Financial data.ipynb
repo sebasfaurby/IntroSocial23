{
 "cells": [
  {
   "cell_type": "code",
   "execution_count": 152,
   "id": "1febeedd-9a15-4acb-a0b5-5e85f6dc3b09",
   "metadata": {
    "tags": []
   },
   "outputs": [],
   "source": [
    "import pandas as pd\n",
    "import numpy as np\n",
    "import pandas_datareader.data as web\n",
    "from datetime import datetime\n",
    "from pathlib import Path\n",
    "import requests\n",
    "import nasdaqdatalink\n",
    "import json\n",
    "import tqdm\n",
    "import time\n",
    "import os\n",
    "from tqdm import tqdm\n",
    "from eodhd import APIClient"
   ]
  },
  {
   "cell_type": "code",
   "execution_count": 4,
   "id": "0cff3aa8-52c8-45ee-8ba3-852f2512c9f3",
   "metadata": {
    "tags": []
   },
   "outputs": [],
   "source": [
    "from twelvedata import TDClient\n",
    "td = TDClient(apikey = '1166574b73ce408ca939ca15595f719e')"
   ]
  },
  {
   "cell_type": "code",
   "execution_count": 103,
   "id": "245fce3c-4ac3-4642-92fd-067913bbf62b",
   "metadata": {
    "tags": []
   },
   "outputs": [],
   "source": [
    "#Create a new folder called financial data if there isnt one\n",
    "financial_data = Path.cwd()/\"Data/Financial data\"\n",
    "Path.mkdir(financial_data, exist_ok=True)"
   ]
  },
  {
   "cell_type": "markdown",
   "id": "db90c0bc-6391-4704-ace8-0b16878d6e59",
   "metadata": {},
   "source": [
    "### Define functions"
   ]
  },
  {
   "cell_type": "code",
   "execution_count": 156,
   "id": "bae09a10-7695-489e-8d8e-2231e413f5f3",
   "metadata": {
    "tags": []
   },
   "outputs": [],
   "source": [
    "def convert_json(response):\n",
    "    \"\"\"\n",
    "    Converts a json format variable to a pandasdataframe and converts its datetime string to a datetime format.\n",
    "    \n",
    "    Args: Response from API call\n",
    "    \n",
    "    returns: pandas dataframe\n",
    "    \"\"\"\n",
    "    df = pd.DataFrame(response.json()['values'])\n",
    "    df['datetime'] = pd.to_datetime(df['datetime'])\n",
    "    \n",
    "    return df\n",
    "\n",
    "def stock_data(ticker):\n",
    "    \"\"\"\n",
    "    Get stock data using twelvedata API connection. \n",
    "    \n",
    "    Args(str): ticker name of the stock\n",
    "    \n",
    "    Returns a pandas dataframe outer-merged on 'datetime' \n",
    "    \"\"\"\n",
    "    \n",
    "    ###MAKE API CLALL###\n",
    "    Timeseries = requests.get(f\"https://api.twelvedata.com/time_series?apikey=1166574b73ce408ca939ca15595f719e&interval=1day&type=stock&symbol={ticker}&exchange=NASDAQ&dp=2&timezone=America/New_York&start_date=2020-01-01 00:00:00&end_date=2023-07-31 23:59:59&format=JSON&previous_close=true\")\n",
    "    #Momentum for one company - example: AAPL\n",
    "    momentum = requests.get(f\"https://api.twelvedata.com/mom?apikey=1166574b73ce408ca939ca15595f719e&interval=1day&symbol={ticker}&timezone=America/New_York&start_date=2020-01-01 00:00:00&end_date=2023-07-31 23:59:59&format=JSON&dp=2\")\n",
    "    #Relative strength index for one company\n",
    "    rsi = requests.get(f\"https://api.twelvedata.com/rsi?apikey=1166574b73ce408ca939ca15595f719e&interval=1day&symbol={ticker}&timezone=America/New_York&start_date=2020-01-01 00:00:00&end_date=2023-07-31 23:59:59&format=JSON&dp=2\")\n",
    "    #Money flow index - MFI \n",
    "    mfi = requests.get(f\"https://api.twelvedata.com/mfi?apikey=1166574b73ce408ca939ca15595f719e&interval=1day&symbol={ticker}&timezone=America/New_York&start_date=2020-01-01 00:00:00&end_date=2023-07-31 23:59:59&format=JSON&dp=2\")\n",
    "    \n",
    "    ### convert json files to pandas dataframes\n",
    "    timeseries_df = convert_json(Timeseries)\n",
    "    momentum_df = convert_json(momentum)\n",
    "    rsi_df = convert_json(rsi)\n",
    "    mfi_df = convert_json(mfi)\n",
    "    \n",
    "    #Join dataframes on \"datetime\", how = \"outer\"\n",
    "    stock_df = timeseries_df.merge(momentum_df, on = \"datetime\", how = \"outer\")\n",
    "    stock_df = stock_df.merge(rsi_df, on = \"datetime\", how = \"outer\")\n",
    "    stock_df = stock_df.merge(mfi_df, on = \"datetime\", how = \"outer\")\n",
    "    \n",
    "    return stock_df\n",
    "\n",
    "def df_to_csv(df, name):\n",
    "    \"\"\"\n",
    "    Save a pandas dataframe into a csv file\n",
    "    \n",
    "    Args(pd.DataFrame, str): dataframe and the name of the file it should return.\n",
    "    When working with stock data name should be the ticker of the specified stock.\n",
    "    \n",
    "    requirements = requests, pandas, json should be installed and imported.\n",
    "    \n",
    "    returns 0, creates a csv file in /Data/Financial data\n",
    "    \"\"\"\n",
    "\n",
    "    pathname = Path.cwd()/f\"Data/Financial data/{name}.csv\"\n",
    "    \n",
    "    df.to_csv(pathname, index = False)\n",
    "    \n",
    "    return None\n",
    "\n",
    "def log(ticker, df, logfile, output_path=os.getcwd()):\n",
    "    #open or create the csv file\n",
    "    if os.path.isfile(logfile): #if log file exist, open and allow changes\n",
    "        log = open(logfile,'a')\n",
    "    else:\n",
    "        log = open(logfile,'w')\n",
    "        header = ['timestamp', 'Status', 'length', 'output_file']\n",
    "        log.write(\";\".join(header)+\"\\n\") #Make the headers and jump to the new line\n",
    "    \n",
    "    #Gather log information\n",
    "    status_code = f\"last call made happened in ticker {ticker}\"\n",
    "    timestamp = time.strftime('%Y-%m-%d %H:%M:%S', time.localtime(time.time())) #local time\n",
    "    length = len(df) #Lenght of HTML string\n",
    "    \n",
    "    #Open the log file and append the gathered log information\n",
    "    with open(logfile, 'a') as log:\n",
    "        log.write(f'{timestamp};{status_code};{length};{output_path}' + \"\\n\") #Append the information and jump to the new line."
   ]
  },
  {
   "cell_type": "markdown",
   "id": "577efca8-bbb3-4902-b8c8-585bfb8a9c28",
   "metadata": {},
   "source": [
    "### Call data automatically\n",
    "Errors are omitted and the missing stocks are saved in a list so they can be obtained manually later"
   ]
  },
  {
   "cell_type": "code",
   "execution_count": 205,
   "id": "4425b586-e192-463a-bd67-6ec388596821",
   "metadata": {
    "tags": []
   },
   "outputs": [
    {
     "data": {
      "text/plain": [
       "array(['AZN', 'ON', 'EXC', 'BIIB', 'ROST', 'MRNA', 'SGEN', 'BKR', 'CTSH',\n",
       "       'CEG', 'VRSK', 'WBD', 'EA', 'CRWD', 'TTD', 'CSGP', 'XEL', 'FAST',\n",
       "       'GEHC', 'DLTR', 'GFS', 'TEAM', 'ILMN', 'FANG', 'ALGN', 'DDOG',\n",
       "       'ANSS', 'WBA', 'EBAY', 'ZS', 'ENPH', 'SIRI', 'ZM', 'JD', 'LCID'],\n",
       "      dtype=object)"
      ]
     },
     "execution_count": 205,
     "metadata": {},
     "output_type": "execute_result"
    }
   ],
   "source": [
    "NASDAQ100 = pd.read_csv(Path.cwd()/\"Data/NASDAQ 100.csv\", sep = \";\")\n",
    "tickers = NASDAQ100[\"Symbol\"]\n",
    "tickers = tickers.values\n",
    "tickers_list = tickers\n",
    "tickers_list"
   ]
  },
  {
   "cell_type": "code",
   "execution_count": 206,
   "id": "54865936-8485-4e28-af67-288cb6f48727",
   "metadata": {
    "tags": []
   },
   "outputs": [
    {
     "name": "stderr",
     "output_type": "stream",
     "text": [
      "0it [00:00, ?it/s]"
     ]
    },
    {
     "name": "stdout",
     "output_type": "stream",
     "text": [
      "Company AZN was not retrieved\n"
     ]
    },
    {
     "name": "stderr",
     "output_type": "stream",
     "text": [
      "33it [57:26, 128.62s/it]"
     ]
    },
    {
     "name": "stdout",
     "output_type": "stream",
     "text": [
      "Company JD was not retrieved\n"
     ]
    },
    {
     "name": "stderr",
     "output_type": "stream",
     "text": [
      "35it [59:27, 101.93s/it]\n"
     ]
    }
   ],
   "source": [
    "logfile = Path.cwd()/f\"Data/financial_data_logs.csv\"\n",
    "missing = ['ASML', 'PDD']\n",
    "index_missing = [45,49]\n",
    "\n",
    "for i, ticker in tqdm.tqdm(enumerate(tickers_list)):\n",
    "    try: #get and save data for stock i in list if working\n",
    "        df = stock_data(ticker) #save data of a single stock in dataframe\n",
    "        df_to_csv(df, ticker) #save dataframe to csv\n",
    "        log(ticker, df, logfile, output_path =  Path.cwd()/f\"Data/Financial data/{ticker}.csv\") #create logfile reporting each call\n",
    "        time.sleep(60) #wait for 60 seconds as compliance to API regulation from server\n",
    "    \n",
    "    except: #get data for stock i+1 and print the stock that failed so it can be retrieved later\n",
    "        print(f\"Company {ticker} was not retrieved\")\n",
    "        missing.append(ticker)\n",
    "        index_missing.append(i+66)\n",
    "        time.sleep(60) #wait for 60 seconds as compliance to API regulation from server\n"
   ]
  },
  {
   "cell_type": "markdown",
   "id": "2a70fa27-8718-4676-9247-eef966a80d7f",
   "metadata": {},
   "source": [
    "### Merge into one large dataframe\n",
    "Now it is time to read all the downloaded files and merge them in a wide-dataset.\n",
    "\n",
    "Afterthat this should be converted to a long format dataframe.\n",
    "\n",
    "Here it is going to be required to use the list with 100 stocks in order to get all tickers. Also i will delete the four stocks that were not possible to get"
   ]
  },
  {
   "cell_type": "code",
   "execution_count": 243,
   "id": "9930a4d0-7881-4284-a2d4-c4009e9ec4fa",
   "metadata": {
    "tags": []
   },
   "outputs": [
    {
     "data": {
      "text/html": [
       "<div>\n",
       "<style scoped>\n",
       "    .dataframe tbody tr th:only-of-type {\n",
       "        vertical-align: middle;\n",
       "    }\n",
       "\n",
       "    .dataframe tbody tr th {\n",
       "        vertical-align: top;\n",
       "    }\n",
       "\n",
       "    .dataframe thead th {\n",
       "        text-align: right;\n",
       "    }\n",
       "</style>\n",
       "<table border=\"1\" class=\"dataframe\">\n",
       "  <thead>\n",
       "    <tr style=\"text-align: right;\">\n",
       "      <th></th>\n",
       "      <th>datetime</th>\n",
       "      <th>open</th>\n",
       "      <th>high</th>\n",
       "      <th>low</th>\n",
       "      <th>close</th>\n",
       "      <th>volume</th>\n",
       "      <th>previous_close</th>\n",
       "      <th>mom</th>\n",
       "      <th>rsi</th>\n",
       "      <th>mfi</th>\n",
       "    </tr>\n",
       "  </thead>\n",
       "  <tbody>\n",
       "    <tr>\n",
       "      <th>0</th>\n",
       "      <td>2023-07-31</td>\n",
       "      <td>153.86</td>\n",
       "      <td>154.95</td>\n",
       "      <td>151.55</td>\n",
       "      <td>152.19</td>\n",
       "      <td>4457300</td>\n",
       "      <td>153.33</td>\n",
       "      <td>5.66</td>\n",
       "      <td>72.27</td>\n",
       "      <td>81.96</td>\n",
       "    </tr>\n",
       "    <tr>\n",
       "      <th>1</th>\n",
       "      <td>2023-07-28</td>\n",
       "      <td>150.23</td>\n",
       "      <td>154.49</td>\n",
       "      <td>150.21</td>\n",
       "      <td>153.33</td>\n",
       "      <td>4162300</td>\n",
       "      <td>148.50</td>\n",
       "      <td>7.97</td>\n",
       "      <td>75.15</td>\n",
       "      <td>83.00</td>\n",
       "    </tr>\n",
       "    <tr>\n",
       "      <th>2</th>\n",
       "      <td>2023-07-27</td>\n",
       "      <td>151.89</td>\n",
       "      <td>153.18</td>\n",
       "      <td>147.55</td>\n",
       "      <td>148.50</td>\n",
       "      <td>5426000</td>\n",
       "      <td>150.17</td>\n",
       "      <td>5.16</td>\n",
       "      <td>70.53</td>\n",
       "      <td>82.85</td>\n",
       "    </tr>\n",
       "    <tr>\n",
       "      <th>3</th>\n",
       "      <td>2023-07-26</td>\n",
       "      <td>147.83</td>\n",
       "      <td>150.27</td>\n",
       "      <td>147.09</td>\n",
       "      <td>150.17</td>\n",
       "      <td>4055500</td>\n",
       "      <td>148.65</td>\n",
       "      <td>10.08</td>\n",
       "      <td>75.00</td>\n",
       "      <td>82.23</td>\n",
       "    </tr>\n",
       "    <tr>\n",
       "      <th>4</th>\n",
       "      <td>2023-07-25</td>\n",
       "      <td>147.61</td>\n",
       "      <td>150.78</td>\n",
       "      <td>147.46</td>\n",
       "      <td>148.65</td>\n",
       "      <td>4121300</td>\n",
       "      <td>147.62</td>\n",
       "      <td>11.63</td>\n",
       "      <td>73.59</td>\n",
       "      <td>77.69</td>\n",
       "    </tr>\n",
       "    <tr>\n",
       "      <th>...</th>\n",
       "      <td>...</td>\n",
       "      <td>...</td>\n",
       "      <td>...</td>\n",
       "      <td>...</td>\n",
       "      <td>...</td>\n",
       "      <td>...</td>\n",
       "      <td>...</td>\n",
       "      <td>...</td>\n",
       "      <td>...</td>\n",
       "      <td>...</td>\n",
       "    </tr>\n",
       "    <tr>\n",
       "      <th>658</th>\n",
       "      <td>2020-12-15</td>\n",
       "      <td>126.69</td>\n",
       "      <td>127.60</td>\n",
       "      <td>121.50</td>\n",
       "      <td>124.80</td>\n",
       "      <td>10914400</td>\n",
       "      <td>130.00</td>\n",
       "      <td>0.00</td>\n",
       "      <td>0.00</td>\n",
       "      <td>0.00</td>\n",
       "    </tr>\n",
       "    <tr>\n",
       "      <th>659</th>\n",
       "      <td>2020-12-14</td>\n",
       "      <td>135.00</td>\n",
       "      <td>135.30</td>\n",
       "      <td>125.16</td>\n",
       "      <td>130.00</td>\n",
       "      <td>16966100</td>\n",
       "      <td>139.25</td>\n",
       "      <td>0.00</td>\n",
       "      <td>0.00</td>\n",
       "      <td>0.00</td>\n",
       "    </tr>\n",
       "    <tr>\n",
       "      <th>660</th>\n",
       "      <td>2020-12-11</td>\n",
       "      <td>146.55</td>\n",
       "      <td>151.50</td>\n",
       "      <td>135.10</td>\n",
       "      <td>139.25</td>\n",
       "      <td>26980800</td>\n",
       "      <td>144.71</td>\n",
       "      <td>0.00</td>\n",
       "      <td>0.00</td>\n",
       "      <td>0.00</td>\n",
       "    </tr>\n",
       "    <tr>\n",
       "      <th>661</th>\n",
       "      <td>2020-12-10</td>\n",
       "      <td>146.00</td>\n",
       "      <td>165.00</td>\n",
       "      <td>141.25</td>\n",
       "      <td>144.71</td>\n",
       "      <td>70447500</td>\n",
       "      <td>144.71</td>\n",
       "      <td>0.00</td>\n",
       "      <td>0.00</td>\n",
       "      <td>0.00</td>\n",
       "    </tr>\n",
       "    <tr>\n",
       "      <th>662</th>\n",
       "      <td>2020-12-09</td>\n",
       "      <td>146.00</td>\n",
       "      <td>164.93</td>\n",
       "      <td>141.50</td>\n",
       "      <td>144.71</td>\n",
       "      <td>70447536</td>\n",
       "      <td>NaN</td>\n",
       "      <td>0.00</td>\n",
       "      <td>0.00</td>\n",
       "      <td>0.00</td>\n",
       "    </tr>\n",
       "  </tbody>\n",
       "</table>\n",
       "<p>663 rows × 10 columns</p>\n",
       "</div>"
      ],
      "text/plain": [
       "       datetime    open    high     low   close    volume  previous_close  \\\n",
       "0    2023-07-31  153.86  154.95  151.55  152.19   4457300          153.33   \n",
       "1    2023-07-28  150.23  154.49  150.21  153.33   4162300          148.50   \n",
       "2    2023-07-27  151.89  153.18  147.55  148.50   5426000          150.17   \n",
       "3    2023-07-26  147.83  150.27  147.09  150.17   4055500          148.65   \n",
       "4    2023-07-25  147.61  150.78  147.46  148.65   4121300          147.62   \n",
       "..          ...     ...     ...     ...     ...       ...             ...   \n",
       "658  2020-12-15  126.69  127.60  121.50  124.80  10914400          130.00   \n",
       "659  2020-12-14  135.00  135.30  125.16  130.00  16966100          139.25   \n",
       "660  2020-12-11  146.55  151.50  135.10  139.25  26980800          144.71   \n",
       "661  2020-12-10  146.00  165.00  141.25  144.71  70447500          144.71   \n",
       "662  2020-12-09  146.00  164.93  141.50  144.71  70447536             NaN   \n",
       "\n",
       "       mom    rsi    mfi  \n",
       "0     5.66  72.27  81.96  \n",
       "1     7.97  75.15  83.00  \n",
       "2     5.16  70.53  82.85  \n",
       "3    10.08  75.00  82.23  \n",
       "4    11.63  73.59  77.69  \n",
       "..     ...    ...    ...  \n",
       "658   0.00   0.00   0.00  \n",
       "659   0.00   0.00   0.00  \n",
       "660   0.00   0.00   0.00  \n",
       "661   0.00   0.00   0.00  \n",
       "662   0.00   0.00   0.00  \n",
       "\n",
       "[663 rows x 10 columns]"
      ]
     },
     "execution_count": 243,
     "metadata": {},
     "output_type": "execute_result"
    }
   ],
   "source": [
    "def read_csv(name):\n",
    "    pathname = Path.cwd()/f\"Data/Financial data/{name}.csv\"\n",
    "    df = pd.read_csv(pathname)\n",
    "    \n",
    "    return df\n",
    "\n"
   ]
  },
  {
   "cell_type": "code",
   "execution_count": null,
   "id": "18afde37-1b71-4889-bcf3-927728f7c9b8",
   "metadata": {},
   "outputs": [],
   "source": []
  }
 ],
 "metadata": {
  "kernelspec": {
   "display_name": "Python 3 (ipykernel)",
   "language": "python",
   "name": "python3"
  },
  "language_info": {
   "codemirror_mode": {
    "name": "ipython",
    "version": 3
   },
   "file_extension": ".py",
   "mimetype": "text/x-python",
   "name": "python",
   "nbconvert_exporter": "python",
   "pygments_lexer": "ipython3",
   "version": "3.11.3"
  }
 },
 "nbformat": 4,
 "nbformat_minor": 5
}
