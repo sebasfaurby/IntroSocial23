{
 "cells": [
  {
   "cell_type": "code",
   "execution_count": 3,
   "metadata": {
    "tags": []
   },
   "outputs": [
    {
     "name": "stdout",
     "output_type": "stream",
     "text": [
      "Collecting pandas_datareader\n",
      "  Downloading pandas_datareader-0.10.0-py3-none-any.whl (109 kB)\n",
      "                                              0.0/109.5 kB ? eta -:--:--\n",
      "     -------------------------------------- 109.5/109.5 kB 6.6 MB/s eta 0:00:00\n",
      "Requirement already satisfied: lxml in c:\\users\\sebas\\anaconda3\\lib\\site-packages (from pandas_datareader) (4.9.2)\n",
      "Requirement already satisfied: pandas>=0.23 in c:\\users\\sebas\\anaconda3\\lib\\site-packages (from pandas_datareader) (1.5.3)\n",
      "Requirement already satisfied: requests>=2.19.0 in c:\\users\\sebas\\anaconda3\\lib\\site-packages (from pandas_datareader) (2.29.0)\n",
      "Requirement already satisfied: python-dateutil>=2.8.1 in c:\\users\\sebas\\anaconda3\\lib\\site-packages (from pandas>=0.23->pandas_datareader) (2.8.2)\n",
      "Requirement already satisfied: pytz>=2020.1 in c:\\users\\sebas\\anaconda3\\lib\\site-packages (from pandas>=0.23->pandas_datareader) (2022.7)\n",
      "Requirement already satisfied: numpy>=1.21.0 in c:\\users\\sebas\\anaconda3\\lib\\site-packages (from pandas>=0.23->pandas_datareader) (1.24.3)\n",
      "Requirement already satisfied: charset-normalizer<4,>=2 in c:\\users\\sebas\\anaconda3\\lib\\site-packages (from requests>=2.19.0->pandas_datareader) (2.0.4)\n",
      "Requirement already satisfied: idna<4,>=2.5 in c:\\users\\sebas\\anaconda3\\lib\\site-packages (from requests>=2.19.0->pandas_datareader) (3.4)\n",
      "Requirement already satisfied: urllib3<1.27,>=1.21.1 in c:\\users\\sebas\\anaconda3\\lib\\site-packages (from requests>=2.19.0->pandas_datareader) (1.26.16)\n",
      "Requirement already satisfied: certifi>=2017.4.17 in c:\\users\\sebas\\anaconda3\\lib\\site-packages (from requests>=2.19.0->pandas_datareader) (2023.5.7)\n",
      "Requirement already satisfied: six>=1.5 in c:\\users\\sebas\\anaconda3\\lib\\site-packages (from python-dateutil>=2.8.1->pandas>=0.23->pandas_datareader) (1.16.0)\n",
      "Installing collected packages: pandas_datareader\n",
      "Successfully installed pandas_datareader-0.10.0\n"
     ]
    }
   ],
   "source": [
    "!pip install pandas_datareader"
   ]
  },
  {
   "cell_type": "code",
   "execution_count": 4,
   "metadata": {
    "tags": []
   },
   "outputs": [],
   "source": [
    "import pandas as pd\n",
    "import pandas_datareader.data as web\n",
    "from datetime import datetime"
   ]
  },
  {
   "cell_type": "code",
   "execution_count": 5,
   "metadata": {
    "tags": []
   },
   "outputs": [],
   "source": [
    "end_date = datetime.now()  # Current date\n",
    "start_date = end_date.replace(year=end_date.year - 10)  # 10 years ago from the current date\n"
   ]
  },
  {
   "cell_type": "code",
   "execution_count": 6,
   "metadata": {
    "tags": []
   },
   "outputs": [
    {
     "name": "stdout",
     "output_type": "stream",
     "text": [
      "Year-to-Year Change in Non-Core Inflation (CPI for All Items):\n",
      "            CPIAUCNS\n",
      "DATE                \n",
      "2023-02-01  6.035613\n",
      "2023-03-01  4.984974\n",
      "2023-04-01  4.930320\n",
      "2023-05-01  4.047609\n",
      "2023-06-01  2.969178\n",
      "\n",
      "Year-to-Year Change in Core Inflation (CPI for All Items Less Food and Energy):\n",
      "            CPILFESL\n",
      "DATE                \n",
      "2023-02-01  5.525999\n",
      "2023-03-01  5.602568\n",
      "2023-04-01  5.536655\n",
      "2023-05-01  5.328639\n",
      "2023-06-01  4.860943\n"
     ]
    }
   ],
   "source": [
    "# Define the start and end dates for the data extraction\n",
    "end_date = datetime.now()  # Current date\n",
    "start_date = end_date.replace(year=end_date.year - 2)  # Two years ago from the current date\n",
    "\n",
    "# Define the CPI series IDs for the FRED dataset\n",
    "non_core_cpi_series_id = \"CPIAUCNS\"  # CPI for All Urban Consumers: All Items\n",
    "core_cpi_series_id = \"CPILFESL\"  # CPI for All Urban Consumers: All Items Less Food and Energy\n",
    "\n",
    "# Use the Pandas DataReader to fetch the CPI data from FRED\n",
    "non_core_cpi_data = web.DataReader(non_core_cpi_series_id, \"fred\", start_date, end_date)\n",
    "core_cpi_data = web.DataReader(core_cpi_series_id, \"fred\", start_date, end_date)\n",
    "\n",
    "# Calculate the year-to-year change in inflation for core and non-core CPI\n",
    "non_core_inflation_change = non_core_cpi_data.pct_change(periods=12) * 100\n",
    "core_inflation_change = core_cpi_data.pct_change(periods=12) * 100\n",
    "\n",
    "# Print the results\n",
    "print(\"Year-to-Year Change in Non-Core Inflation (CPI for All Items):\")\n",
    "print(non_core_inflation_change.tail())\n",
    "\n",
    "print(\"\\nYear-to-Year Change in Core Inflation (CPI for All Items Less Food and Energy):\")\n",
    "print(core_inflation_change.tail())"
   ]
  },
  {
   "cell_type": "code",
   "execution_count": null,
   "metadata": {},
   "outputs": [],
   "source": []
  }
 ],
 "metadata": {
  "kernelspec": {
   "display_name": "Python 3 (ipykernel)",
   "language": "python",
   "name": "python3"
  },
  "language_info": {
   "codemirror_mode": {
    "name": "ipython",
    "version": 3
   },
   "file_extension": ".py",
   "mimetype": "text/x-python",
   "name": "python",
   "nbconvert_exporter": "python",
   "pygments_lexer": "ipython3",
   "version": "3.11.3"
  }
 },
 "nbformat": 4,
 "nbformat_minor": 4
}
