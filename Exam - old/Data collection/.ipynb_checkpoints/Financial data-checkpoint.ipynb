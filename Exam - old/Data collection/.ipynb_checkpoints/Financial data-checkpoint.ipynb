{
 "cells": [
  {
   "cell_type": "code",
   "execution_count": 152,
   "id": "1febeedd-9a15-4acb-a0b5-5e85f6dc3b09",
   "metadata": {
    "tags": []
   },
   "outputs": [],
   "source": [
    "import pandas as pd\n",
    "import numpy as np\n",
    "import pandas_datareader.data as web\n",
    "from datetime import datetime\n",
    "from pathlib import Path\n",
    "import requests\n",
    "import nasdaqdatalink\n",
    "import json\n",
    "import tqdm\n",
    "import time\n",
    "import os"
   ]
  },
  {
   "cell_type": "code",
   "execution_count": 4,
   "id": "0cff3aa8-52c8-45ee-8ba3-852f2512c9f3",
   "metadata": {
    "tags": []
   },
   "outputs": [],
   "source": [
    "from twelvedata import TDClient\n",
    "td = TDClient(apikey = '1166574b73ce408ca939ca15595f719e')"
   ]
  },
  {
   "cell_type": "code",
   "execution_count": 103,
   "id": "245fce3c-4ac3-4642-92fd-067913bbf62b",
   "metadata": {
    "tags": []
   },
   "outputs": [],
   "source": [
    "#Create a new folder called financial data if there isnt one\n",
    "financial_data = Path.cwd()/\"Data/Financial data\"\n",
    "Path.mkdir(financial_data, exist_ok=True)"
   ]
  },
  {
   "cell_type": "markdown",
   "id": "db90c0bc-6391-4704-ace8-0b16878d6e59",
   "metadata": {},
   "source": [
    "### Define functions"
   ]
  },
  {
   "cell_type": "code",
   "execution_count": 156,
   "id": "bae09a10-7695-489e-8d8e-2231e413f5f3",
   "metadata": {
    "tags": []
   },
   "outputs": [],
   "source": [
    "def convert_json(response):\n",
    "    \"\"\"\n",
    "    Converts a json format variable to a pandasdataframe and converts its datetime string to a datetime format.\n",
    "    \n",
    "    Args: Response from API call\n",
    "    \n",
    "    returns: pandas dataframe\n",
    "    \"\"\"\n",
    "    df = pd.DataFrame(response.json()['values'])\n",
    "    df['datetime'] = pd.to_datetime(df['datetime'])\n",
    "    \n",
    "    return df\n",
    "\n",
    "def stock_data(ticker):\n",
    "    \"\"\"\n",
    "    Get stock data using twelvedata API connection. \n",
    "    \n",
    "    Args(str): ticker name of the stock\n",
    "    \n",
    "    Returns a pandas dataframe outer-merged on 'datetime' \n",
    "    \"\"\"\n",
    "    \n",
    "    ###MAKE API CLALL###\n",
    "    Timeseries = requests.get(f\"https://api.twelvedata.com/time_series?apikey=1166574b73ce408ca939ca15595f719e&interval=1day&type=stock&symbol={ticker}&exchange=NASDAQ&dp=2&timezone=America/New_York&start_date=2020-01-01 00:00:00&end_date=2023-07-31 23:59:59&format=JSON&previous_close=true\")\n",
    "    #Momentum for one company - example: AAPL\n",
    "    momentum = requests.get(f\"https://api.twelvedata.com/mom?apikey=1166574b73ce408ca939ca15595f719e&interval=1day&symbol={ticker}&timezone=America/New_York&start_date=2020-01-01 00:00:00&end_date=2023-07-31 23:59:59&format=JSON&dp=2\")\n",
    "    #Relative strength index for one company\n",
    "    rsi = requests.get(f\"https://api.twelvedata.com/rsi?apikey=1166574b73ce408ca939ca15595f719e&interval=1day&symbol={ticker}&timezone=America/New_York&start_date=2020-01-01 00:00:00&end_date=2023-07-31 23:59:59&format=JSON&dp=2\")\n",
    "    #Money flow index - MFI \n",
    "    mfi = requests.get(f\"https://api.twelvedata.com/mfi?apikey=1166574b73ce408ca939ca15595f719e&interval=1day&symbol={ticker}&timezone=America/New_York&start_date=2020-01-01 00:00:00&end_date=2023-07-31 23:59:59&format=JSON&dp=2\")\n",
    "    \n",
    "    ### convert json files to pandas dataframes\n",
    "    timeseries_df = convert_json(Timeseries)\n",
    "    momentum_df = convert_json(momentum)\n",
    "    rsi_df = convert_json(rsi)\n",
    "    mfi_df = convert_json(mfi)\n",
    "    \n",
    "    #Join dataframes on \"datetime\", how = \"outer\"\n",
    "    stock_df = timeseries_df.merge(momentum_df, on = \"datetime\", how = \"outer\")\n",
    "    stock_df = stock_df.merge(rsi_df, on = \"datetime\", how = \"outer\")\n",
    "    stock_df = stock_df.merge(mfi_df, on = \"datetime\", how = \"outer\")\n",
    "    \n",
    "    return stock_df\n",
    "\n",
    "def df_to_csv(df, name):\n",
    "    \"\"\"\n",
    "    Save a pandas dataframe into a csv file\n",
    "    \n",
    "    Args(pd.DataFrame, str): dataframe and the name of the file it should return.\n",
    "    When working with stock data name should be the ticker of the specified stock.\n",
    "    \n",
    "    requirements = requests, pandas, json should be installed and imported.\n",
    "    \n",
    "    returns 0, creates a csv file in /Data/Financial data\n",
    "    \"\"\"\n",
    "\n",
    "    pathname = Path.cwd()/f\"Data/Financial data/{name}.csv\"\n",
    "    \n",
    "    df.to_csv(pathname, index = False)\n",
    "    \n",
    "    return None\n",
    "\n",
    "def log(ticker, df, logfile, output_path=os.getcwd()):\n",
    "    #open or create the csv file\n",
    "    if os.path.isfile(logfile): #if log file exist, open and allow changes\n",
    "        log = open(logfile,'a')\n",
    "    else:\n",
    "        log = open(logfile,'w')\n",
    "        header = ['timestamp', 'Status', 'length', 'output_file']\n",
    "        log.write(\";\".join(header)+\"\\n\") #Make the headers and jump to the new line\n",
    "    \n",
    "    #Gather log information\n",
    "    status_code = f\"last call made happened in ticker {ticker}\"\n",
    "    timestamp = time.strftime('%Y-%m-%d %H:%M:%S', time.localtime(time.time())) #local time\n",
    "    length = len(df) #Lenght of HTML string\n",
    "    \n",
    "    #Open the log file and append the gathered log information\n",
    "    with open(logfile, 'a') as log:\n",
    "        log.write(f'{timestamp};{status_code};{length};{output_path}' + \"\\n\") #Append the information and jump to the new line."
   ]
  },
  {
   "cell_type": "markdown",
   "id": "577efca8-bbb3-4902-b8c8-585bfb8a9c28",
   "metadata": {},
   "source": [
    "### Call data automatically\n",
    "Errors are omitted and the missing stocks are saved in a list so they can be obtained manually later"
   ]
  },
  {
   "cell_type": "code",
   "execution_count": 205,
   "id": "4425b586-e192-463a-bd67-6ec388596821",
   "metadata": {
    "tags": []
   },
   "outputs": [
    {
     "data": {
      "text/plain": [
       "array(['AZN', 'ON', 'EXC', 'BIIB', 'ROST', 'MRNA', 'SGEN', 'BKR', 'CTSH',\n",
       "       'CEG', 'VRSK', 'WBD', 'EA', 'CRWD', 'TTD', 'CSGP', 'XEL', 'FAST',\n",
       "       'GEHC', 'DLTR', 'GFS', 'TEAM', 'ILMN', 'FANG', 'ALGN', 'DDOG',\n",
       "       'ANSS', 'WBA', 'EBAY', 'ZS', 'ENPH', 'SIRI', 'ZM', 'JD', 'LCID'],\n",
       "      dtype=object)"
      ]
     },
     "execution_count": 205,
     "metadata": {},
     "output_type": "execute_result"
    }
   ],
   "source": [
    "NASDAQ100 = pd.read_csv(Path.cwd()/\"Data/NASDAQ 100.csv\", sep = \";\")\n",
    "tickers = NASDAQ100[\"Symbol\"]\n",
    "tickers = tickers.values\n",
    "tickers_list = tickers\n",
    "tickers_list"
   ]
  },
  {
   "cell_type": "code",
   "execution_count": 206,
   "id": "54865936-8485-4e28-af67-288cb6f48727",
   "metadata": {
    "tags": []
   },
   "outputs": [
    {
     "name": "stderr",
     "output_type": "stream",
     "text": [
      "0it [00:00, ?it/s]"
     ]
    },
    {
     "name": "stdout",
     "output_type": "stream",
     "text": [
      "Company AZN was not retrieved\n"
     ]
    },
    {
     "name": "stderr",
     "output_type": "stream",
     "text": [
      "33it [57:26, 128.62s/it]"
     ]
    },
    {
     "name": "stdout",
     "output_type": "stream",
     "text": [
      "Company JD was not retrieved\n"
     ]
    },
    {
     "name": "stderr",
     "output_type": "stream",
     "text": [
      "35it [59:27, 101.93s/it]\n"
     ]
    }
   ],
   "source": [
    "logfile = Path.cwd()/f\"Data/financial_data_logs.csv\"\n",
    "missing = ['ASML', 'PDD']\n",
    "index_missing = [45,49]\n",
    "\n",
    "for i, ticker in tqdm.tqdm(enumerate(tickers_list)):\n",
    "    try: #get and save data for stock i in list if working\n",
    "        df = stock_data(ticker) #save data of a single stock in dataframe\n",
    "        df_to_csv(df, ticker) #save dataframe to csv\n",
    "        log(ticker, df, logfile, output_path =  Path.cwd()/f\"Data/Financial data/{ticker}.csv\") #create logfile reporting each call\n",
    "        time.sleep(60) #wait for 60 seconds as compliance to API regulation from server\n",
    "    \n",
    "    except: #get data for stock i+1 and print the stock that failed so it can be retrieved later\n",
    "        print(f\"Company {ticker} was not retrieved\")\n",
    "        missing.append(ticker)\n",
    "        index_missing.append(i+66)\n",
    "        time.sleep(60) #wait for 60 seconds as compliance to API regulation from server\n"
   ]
  },
  {
   "cell_type": "markdown",
   "id": "2a70fa27-8718-4676-9247-eef966a80d7f",
   "metadata": {},
   "source": [
    "### Merge into one large dataframe\n",
    "Now it is time to read all the downloaded files and merge them in a wide-dataset.\n",
    "\n",
    "Afterthat this should be converted to a long format dataframe."
   ]
  },
  {
   "cell_type": "code",
   "execution_count": null,
   "id": "9930a4d0-7881-4284-a2d4-c4009e9ec4fa",
   "metadata": {},
   "outputs": [],
   "source": []
  }
 ],
 "metadata": {
  "kernelspec": {
   "display_name": "Python 3 (ipykernel)",
   "language": "python",
   "name": "python3"
  },
  "language_info": {
   "codemirror_mode": {
    "name": "ipython",
    "version": 3
   },
   "file_extension": ".py",
   "mimetype": "text/x-python",
   "name": "python",
   "nbconvert_exporter": "python",
   "pygments_lexer": "ipython3",
   "version": "3.11.3"
  }
 },
 "nbformat": 4,
 "nbformat_minor": 5
}
