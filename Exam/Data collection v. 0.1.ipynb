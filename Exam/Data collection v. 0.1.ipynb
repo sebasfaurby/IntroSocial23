{
 "cells": [
  {
   "cell_type": "code",
   "execution_count": 3,
   "metadata": {},
   "outputs": [],
   "source": [
    "import pandas as pd\n",
    "import pandas_datareader.data as web\n",
    "from datetime import datetime"
   ]
  },
  {
   "cell_type": "code",
   "execution_count": 4,
   "metadata": {},
   "outputs": [],
   "source": [
    "end_date = datetime.now()  # Current date\n",
    "start_date = end_date.replace(year=end_date.year - 10)  # 10 years ago from the current date\n"
   ]
  },
  {
   "cell_type": "code",
   "execution_count": 9,
   "metadata": {},
   "outputs": [
    {
     "name": "stdout",
     "output_type": "stream",
     "text": [
      "Year-to-Year Change in Non-Core Inflation (CPI for All Items):\n",
      "            CPIAUCNS\n",
      "DATE                \n",
      "2023-02-01  6.035613\n",
      "2023-03-01  4.984974\n",
      "2023-04-01  4.930320\n",
      "2023-05-01  4.047609\n",
      "2023-06-01  2.969178\n",
      "\n",
      "Year-to-Year Change in Core Inflation (CPI for All Items Less Food and Energy):\n",
      "            CPILFESL\n",
      "DATE                \n",
      "2023-02-01  5.525999\n",
      "2023-03-01  5.602568\n",
      "2023-04-01  5.536655\n",
      "2023-05-01  5.328639\n",
      "2023-06-01  4.860943\n"
     ]
    }
   ],
   "source": [
    "# Define the start and end dates for the data extraction\n",
    "end_date = datetime.now()  # Current date\n",
    "start_date = end_date.replace(year=end_date.year - 2)  # Two years ago from the current date\n",
    "\n",
    "# Define the CPI series IDs for the FRED dataset\n",
    "non_core_cpi_series_id = \"CPIAUCNS\"  # CPI for All Urban Consumers: All Items\n",
    "core_cpi_series_id = \"CPILFESL\"  # CPI for All Urban Consumers: All Items Less Food and Energy\n",
    "\n",
    "# Use the Pandas DataReader to fetch the CPI data from FRED\n",
    "non_core_cpi_data = web.DataReader(non_core_cpi_series_id, \"fred\", start_date, end_date)\n",
    "core_cpi_data = web.DataReader(core_cpi_series_id, \"fred\", start_date, end_date)\n",
    "\n",
    "# Calculate the year-to-year change in inflation for core and non-core CPI\n",
    "non_core_inflation_change = non_core_cpi_data.pct_change(periods=12) * 100\n",
    "core_inflation_change = core_cpi_data.pct_change(periods=12) * 100\n",
    "\n",
    "# Print the results\n",
    "print(\"Year-to-Year Change in Non-Core Inflation (CPI for All Items):\")\n",
    "print(non_core_inflation_change.tail())\n",
    "\n",
    "print(\"\\nYear-to-Year Change in Core Inflation (CPI for All Items Less Food and Energy):\")\n",
    "print(core_inflation_change.tail())"
   ]
  },
  {
   "cell_type": "code",
   "execution_count": null,
   "metadata": {},
   "outputs": [],
   "source": []
  }
 ],
 "metadata": {
  "kernelspec": {
   "display_name": "pydata-book",
   "language": "python",
   "name": "python3"
  },
  "language_info": {
   "codemirror_mode": {
    "name": "ipython",
    "version": 3
   },
   "file_extension": ".py",
   "mimetype": "text/x-python",
   "name": "python",
   "nbconvert_exporter": "python",
   "pygments_lexer": "ipython3",
   "version": "3.10.12"
  },
  "orig_nbformat": 4
 },
 "nbformat": 4,
 "nbformat_minor": 2
}
