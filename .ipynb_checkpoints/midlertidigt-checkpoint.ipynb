{
 "cells": [
  {
   "cell_type": "code",
   "execution_count": 2,
   "id": "90451f20-fe22-40cd-81aa-bc1497ea0906",
   "metadata": {
    "tags": []
   },
   "outputs": [],
   "source": [
    "import numpy as np\n",
    "import pandas as pd\n",
    "import matplotlib.pyplot as plt\n",
    "from pathlib import Path"
   ]
  },
  {
   "cell_type": "code",
   "execution_count": 11,
   "id": "56aef9f2-9902-4ade-9b13-b4936d8929e3",
   "metadata": {
    "tags": []
   },
   "outputs": [],
   "source": [
    "file_path = Path.cwd()/\"Exam final/Data collection/Financial data/Nasdaq mkt. cap 50m+.csv\"\n",
    "cwd = Path.cwd()"
   ]
  },
  {
   "cell_type": "code",
   "execution_count": 23,
   "id": "bf2af86d-49e9-46c8-83fa-c3be474d3cdd",
   "metadata": {
    "tags": []
   },
   "outputs": [],
   "source": [
    "df = pd.read_csv(file_path)"
   ]
  },
  {
   "cell_type": "code",
   "execution_count": 24,
   "id": "f1a6f8fa-b30c-4836-8fc0-0a7a2bafa938",
   "metadata": {
    "tags": []
   },
   "outputs": [],
   "source": [
    "df = df[[\"Symbol\", \"Market Cap\"]]\n",
    "df = df.reset_index(drop = True)"
   ]
  },
  {
   "cell_type": "code",
   "execution_count": 29,
   "id": "55133719-771e-4709-8e05-6fd345edb288",
   "metadata": {
    "tags": []
   },
   "outputs": [
    {
     "data": {
      "text/html": [
       "<div>\n",
       "<style scoped>\n",
       "    .dataframe tbody tr th:only-of-type {\n",
       "        vertical-align: middle;\n",
       "    }\n",
       "\n",
       "    .dataframe tbody tr th {\n",
       "        vertical-align: top;\n",
       "    }\n",
       "\n",
       "    .dataframe thead th {\n",
       "        text-align: right;\n",
       "    }\n",
       "</style>\n",
       "<table border=\"1\" class=\"dataframe\">\n",
       "  <thead>\n",
       "    <tr style=\"text-align: right;\">\n",
       "      <th></th>\n",
       "      <th>Symbol</th>\n",
       "      <th>Market Cap</th>\n",
       "    </tr>\n",
       "  </thead>\n",
       "  <tbody>\n",
       "    <tr>\n",
       "      <th>0</th>\n",
       "      <td>AADI</td>\n",
       "      <td>1.456480e+08</td>\n",
       "    </tr>\n",
       "    <tr>\n",
       "      <th>1</th>\n",
       "      <td>AAL</td>\n",
       "      <td>1.037541e+10</td>\n",
       "    </tr>\n",
       "    <tr>\n",
       "      <th>2</th>\n",
       "      <td>AAOI</td>\n",
       "      <td>4.767921e+08</td>\n",
       "    </tr>\n",
       "    <tr>\n",
       "      <th>3</th>\n",
       "      <td>AAON</td>\n",
       "      <td>5.236064e+09</td>\n",
       "    </tr>\n",
       "    <tr>\n",
       "      <th>4</th>\n",
       "      <td>AAPL</td>\n",
       "      <td>2.805719e+12</td>\n",
       "    </tr>\n",
       "    <tr>\n",
       "      <th>...</th>\n",
       "      <td>...</td>\n",
       "      <td>...</td>\n",
       "    </tr>\n",
       "    <tr>\n",
       "      <th>2183</th>\n",
       "      <td>ZUMZ</td>\n",
       "      <td>3.625572e+08</td>\n",
       "    </tr>\n",
       "    <tr>\n",
       "      <th>2184</th>\n",
       "      <td>ZVRA</td>\n",
       "      <td>1.829617e+08</td>\n",
       "    </tr>\n",
       "    <tr>\n",
       "      <th>2185</th>\n",
       "      <td>ZYME</td>\n",
       "      <td>5.080219e+08</td>\n",
       "    </tr>\n",
       "    <tr>\n",
       "      <th>2186</th>\n",
       "      <td>ZYNE</td>\n",
       "      <td>7.243086e+07</td>\n",
       "    </tr>\n",
       "    <tr>\n",
       "      <th>2187</th>\n",
       "      <td>ZYXI</td>\n",
       "      <td>2.777043e+08</td>\n",
       "    </tr>\n",
       "  </tbody>\n",
       "</table>\n",
       "<p>2188 rows × 2 columns</p>\n",
       "</div>"
      ],
      "text/plain": [
       "     Symbol    Market Cap\n",
       "0      AADI  1.456480e+08\n",
       "1       AAL  1.037541e+10\n",
       "2      AAOI  4.767921e+08\n",
       "3      AAON  5.236064e+09\n",
       "4      AAPL  2.805719e+12\n",
       "...     ...           ...\n",
       "2183   ZUMZ  3.625572e+08\n",
       "2184   ZVRA  1.829617e+08\n",
       "2185   ZYME  5.080219e+08\n",
       "2186   ZYNE  7.243086e+07\n",
       "2187   ZYXI  2.777043e+08\n",
       "\n",
       "[2188 rows x 2 columns]"
      ]
     },
     "execution_count": 29,
     "metadata": {},
     "output_type": "execute_result"
    }
   ],
   "source": [
    "df"
   ]
  },
  {
   "cell_type": "code",
   "execution_count": 32,
   "id": "cf6c541c-4a34-4057-96dc-3348e6a43532",
   "metadata": {
    "tags": []
   },
   "outputs": [],
   "source": [
    "dictionary = dict(zip(df[\"Symbol\"],df[\"Market Cap\"]))"
   ]
  },
  {
   "cell_type": "code",
   "execution_count": 33,
   "id": "d53b2391-4f4e-4570-983e-bf49c653e36c",
   "metadata": {
    "tags": []
   },
   "outputs": [],
   "source": [
    "data = pd.read_csv(cwd/'Exam final/Model ML/Regression/Final_df.csv', sep = ';')\n",
    "data = data.drop(\"Unnamed: 0\", axis = 1)\n",
    "data[\"Market Cap\"] = data[\"Ticker\"].map(dictionary)"
   ]
  },
  {
   "cell_type": "code",
   "execution_count": 36,
   "id": "826b8e44-18dd-4f1a-80e4-003fdcc24130",
   "metadata": {
    "tags": []
   },
   "outputs": [],
   "source": [
    "data.to_csv(\"df_final_marketcap.csv\")"
   ]
  },
  {
   "cell_type": "code",
   "execution_count": null,
   "id": "23093cd9-7c9e-4cff-aee6-aa4846367f29",
   "metadata": {},
   "outputs": [],
   "source": []
  }
 ],
 "metadata": {
  "kernelspec": {
   "display_name": "Python 3 (ipykernel)",
   "language": "python",
   "name": "python3"
  },
  "language_info": {
   "codemirror_mode": {
    "name": "ipython",
    "version": 3
   },
   "file_extension": ".py",
   "mimetype": "text/x-python",
   "name": "python",
   "nbconvert_exporter": "python",
   "pygments_lexer": "ipython3",
   "version": "3.11.3"
  }
 },
 "nbformat": 4,
 "nbformat_minor": 5
}
