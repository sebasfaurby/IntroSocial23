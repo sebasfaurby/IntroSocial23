{
 "cells": [
  {
   "cell_type": "code",
   "execution_count": 6,
   "id": "2104a530-38e8-47fb-8024-8e06adb59565",
   "metadata": {
    "collapsed": true,
    "jupyter": {
     "outputs_hidden": true
    },
    "tags": []
   },
   "outputs": [
    {
     "name": "stdout",
     "output_type": "stream",
     "text": [
      "Requirement already satisfied: eodhd in c:\\users\\sebas\\anaconda3\\lib\\site-packages (1.0.9)\n",
      "Requirement already satisfied: websockets==10.3 in c:\\users\\sebas\\anaconda3\\lib\\site-packages (from eodhd) (10.3)\n",
      "Requirement already satisfied: websocket-client==1.3.3 in c:\\users\\sebas\\anaconda3\\lib\\site-packages (from eodhd) (1.3.3)\n",
      "Requirement already satisfied: requests==2.28.1 in c:\\users\\sebas\\anaconda3\\lib\\site-packages (from eodhd) (2.28.1)\n",
      "Requirement already satisfied: rich==12.5.1 in c:\\users\\sebas\\anaconda3\\lib\\site-packages (from eodhd) (12.5.1)\n",
      "Requirement already satisfied: pandas==1.5.1 in c:\\users\\sebas\\anaconda3\\lib\\site-packages (from eodhd) (1.5.1)\n",
      "Requirement already satisfied: numpy==1.24.1 in c:\\users\\sebas\\anaconda3\\lib\\site-packages (from eodhd) (1.24.1)\n",
      "Requirement already satisfied: python-dateutil>=2.8.1 in c:\\users\\sebas\\anaconda3\\lib\\site-packages (from pandas==1.5.1->eodhd) (2.8.2)\n",
      "Requirement already satisfied: pytz>=2020.1 in c:\\users\\sebas\\anaconda3\\lib\\site-packages (from pandas==1.5.1->eodhd) (2022.7)\n",
      "Requirement already satisfied: charset-normalizer<3,>=2 in c:\\users\\sebas\\anaconda3\\lib\\site-packages (from requests==2.28.1->eodhd) (2.0.4)\n",
      "Requirement already satisfied: idna<4,>=2.5 in c:\\users\\sebas\\anaconda3\\lib\\site-packages (from requests==2.28.1->eodhd) (3.4)\n",
      "Requirement already satisfied: urllib3<1.27,>=1.21.1 in c:\\users\\sebas\\anaconda3\\lib\\site-packages (from requests==2.28.1->eodhd) (1.26.16)\n",
      "Requirement already satisfied: certifi>=2017.4.17 in c:\\users\\sebas\\anaconda3\\lib\\site-packages (from requests==2.28.1->eodhd) (2023.5.7)\n",
      "Requirement already satisfied: commonmark<0.10.0,>=0.9.0 in c:\\users\\sebas\\anaconda3\\lib\\site-packages (from rich==12.5.1->eodhd) (0.9.1)\n",
      "Requirement already satisfied: pygments<3.0.0,>=2.6.0 in c:\\users\\sebas\\anaconda3\\lib\\site-packages (from rich==12.5.1->eodhd) (2.15.1)\n",
      "Requirement already satisfied: six>=1.5 in c:\\users\\sebas\\anaconda3\\lib\\site-packages (from python-dateutil>=2.8.1->pandas==1.5.1->eodhd) (1.16.0)\n"
     ]
    }
   ],
   "source": [
    "!pip install eodhd"
   ]
  },
  {
   "cell_type": "code",
   "execution_count": 31,
   "id": "4797d715-c475-48d0-bfbc-44e761d116e2",
   "metadata": {
    "collapsed": true,
    "jupyter": {
     "outputs_hidden": true
    },
    "tags": []
   },
   "outputs": [
    {
     "name": "stdout",
     "output_type": "stream",
     "text": [
      "Collecting eod\n",
      "  Downloading eod-0.2.1-py3-none-any.whl (45 kB)\n",
      "                                              0.0/45.9 kB ? eta -:--:--\n",
      "     ---------------------------------------- 45.9/45.9 kB 2.2 MB/s eta 0:00:00\n",
      "Requirement already satisfied: numpy in c:\\users\\sebas\\anaconda3\\lib\\site-packages (from eod) (1.24.1)\n",
      "Requirement already satisfied: pandas in c:\\users\\sebas\\anaconda3\\lib\\site-packages (from eod) (1.5.1)\n",
      "Requirement already satisfied: requests in c:\\users\\sebas\\anaconda3\\lib\\site-packages (from eod) (2.28.1)\n",
      "Requirement already satisfied: python-dateutil>=2.8.1 in c:\\users\\sebas\\anaconda3\\lib\\site-packages (from pandas->eod) (2.8.2)\n",
      "Requirement already satisfied: pytz>=2020.1 in c:\\users\\sebas\\anaconda3\\lib\\site-packages (from pandas->eod) (2022.7)\n",
      "Requirement already satisfied: charset-normalizer<3,>=2 in c:\\users\\sebas\\anaconda3\\lib\\site-packages (from requests->eod) (2.0.4)\n",
      "Requirement already satisfied: idna<4,>=2.5 in c:\\users\\sebas\\anaconda3\\lib\\site-packages (from requests->eod) (3.4)\n",
      "Requirement already satisfied: urllib3<1.27,>=1.21.1 in c:\\users\\sebas\\anaconda3\\lib\\site-packages (from requests->eod) (1.26.16)\n",
      "Requirement already satisfied: certifi>=2017.4.17 in c:\\users\\sebas\\anaconda3\\lib\\site-packages (from requests->eod) (2023.5.7)\n",
      "Requirement already satisfied: six>=1.5 in c:\\users\\sebas\\anaconda3\\lib\\site-packages (from python-dateutil>=2.8.1->pandas->eod) (1.16.0)\n",
      "Installing collected packages: eod\n",
      "Successfully installed eod-0.2.1\n"
     ]
    }
   ],
   "source": [
    "!pip install eod"
   ]
  },
  {
   "cell_type": "code",
   "execution_count": 128,
   "id": "58514b71-2029-4252-be4b-4ad4d4b58339",
   "metadata": {
    "tags": []
   },
   "outputs": [],
   "source": [
    "import pandas as pd\n",
    "import numpy as np\n",
    "import pandas_datareader.data as web\n",
    "from datetime import datetime\n",
    "from pathlib import Path\n",
    "import requests\n",
    "import nasdaqdatalink\n",
    "import json\n",
    "import tqdm\n",
    "import time\n",
    "import os\n",
    "import tqdm\n",
    "from eodhd import APIClient\n",
    "import datetime\n",
    "import matplotlib.pyplot as plt"
   ]
  },
  {
   "cell_type": "code",
   "execution_count": 13,
   "id": "e4425d7c-acbf-42a9-a0ee-5af66edd7339",
   "metadata": {
    "tags": []
   },
   "outputs": [],
   "source": [
    "api = \"64d77f6d3a60a5.24835840\" #API key"
   ]
  },
  {
   "cell_type": "markdown",
   "id": "f9377558-b534-4409-af61-9469a2b9705b",
   "metadata": {},
   "source": [
    "### Defining functions"
   ]
  },
  {
   "cell_type": "code",
   "execution_count": 120,
   "id": "eab981e9-0252-4a8b-84da-dc23d54aaa1e",
   "metadata": {
    "tags": []
   },
   "outputs": [],
   "source": [
    "def convert_json(response):\n",
    "    \"\"\"\n",
    "    Converts a json format variable to a pandasdataframe and converts its datetime string to a datetime format.\n",
    "    \n",
    "    Args: Response from API call\n",
    "    \n",
    "    returns: pandas dataframe\n",
    "    \"\"\"\n",
    "    df = pd.DataFrame(response.json()['values'])\n",
    "    df['datetime'] = pd.to_datetime(df['datetime'])\n",
    "    \n",
    "    return df\n",
    "\n",
    "def stock_data(ticker):\n",
    "    \"\"\"\n",
    "    Get stock data using twelvedata API connection. \n",
    "    \n",
    "    Args(str): ticker name of the stock\n",
    "    \n",
    "    Returns a pandas dataframe outer-merged on 'datetime' \n",
    "    \"\"\"\n",
    "    \n",
    "    ###MAKE API CLALL###\n",
    "    Timeseries = requests.get(f'https://eodhistoricaldata.com/api/eod/{ticker}.US?order=d&from=2020-01-01&to=2023-07-31&period=d&&api_token={api}&fmt=json')\n",
    "    #Momentum for one company - example: AAPL\n",
    "    momentum = requests.get(f\"https://api.twelvedata.com/mom?apikey=1166574b73ce408ca939ca15595f719e&interval=1day&symbol={ticker}&timezone=America/New_York&start_date=2020-01-01 00:00:00&end_date=2023-07-31 23:59:59&format=JSON&dp=2\")\n",
    "    #Relative strength index for one company\n",
    "    rsi = requests.get(f\"https://api.twelvedata.com/rsi?apikey=1166574b73ce408ca939ca15595f719e&interval=1day&symbol={ticker}&timezone=America/New_York&start_date=2020-01-01 00:00:00&end_date=2023-07-31 23:59:59&format=JSON&dp=2\")\n",
    "    #Money flow index - MFI \n",
    "    mfi = requests.get(f\"https://api.twelvedata.com/mfi?apikey=1166574b73ce408ca939ca15595f719e&interval=1day&symbol={ticker}&timezone=America/New_York&start_date=2020-01-01 00:00:00&end_date=2023-07-31 23:59:59&format=JSON&dp=2\")\n",
    "    \n",
    "    ### convert json files to pandas dataframes\n",
    "    timeseries_df = pd.DataFrame(Timeseries.json()).rename(columns = {\"date\":\"datetime\"})\n",
    "    timeseries_df[\"datetime\"] = pd.to_datetime(timeseries_df[\"datetime\"])\n",
    "    momentum_df = convert_json(momentum)\n",
    "    rsi_df = convert_json(rsi)\n",
    "    mfi_df = convert_json(mfi)\n",
    "    \n",
    "    #Join dataframes on \"datetime\", how = \"outer\"\n",
    "    stock_df = timeseries_df.merge(momentum_df, on = \"datetime\", how = \"outer\")\n",
    "    stock_df = stock_df.merge(rsi_df, on = \"datetime\", how = \"outer\")\n",
    "    stock_df = stock_df.merge(mfi_df, on = \"datetime\", how = \"outer\")\n",
    "    \n",
    "    return stock_df\n",
    "\n",
    "def df_to_csv(df, name):\n",
    "    \"\"\"\n",
    "    Save a pandas dataframe into a csv file\n",
    "    \n",
    "    Args(pd.DataFrame, str): dataframe and the name of the file it should return.\n",
    "    When working with stock data name should be the ticker of the specified stock.\n",
    "    \n",
    "    requirements = requests, pandas, json should be installed and imported.\n",
    "    \n",
    "    returns 0, creates a csv file in /Data/Financial data\n",
    "    \"\"\"\n",
    "\n",
    "    pathname = Path.cwd()/f\"Eod/{name}.csv\"\n",
    "    \n",
    "    df.to_csv(pathname, index = False)\n",
    "    \n",
    "    return None\n",
    "\n",
    "def log(ticker, df, logfile, output_path=os.getcwd()):\n",
    "    #open or create the csv file\n",
    "    if os.path.isfile(logfile): #if log file exist, open and allow changes\n",
    "        log = open(logfile,'a')\n",
    "    else:\n",
    "        log = open(logfile,'w')\n",
    "        header = ['timestamp', 'Status', 'length', 'output_file']\n",
    "        log.write(\";\".join(header)+\"\\n\") #Make the headers and jump to the new line\n",
    "    \n",
    "    #Gather log information\n",
    "    status_code = f\"last call made happened in ticker {ticker}\"\n",
    "    timestamp = time.strftime('%Y-%m-%d %H:%M:%S', time.localtime(time.time())) #local time\n",
    "    length = len(df) #Lenght of HTML string\n",
    "    \n",
    "    #Open the log file and append the gathered log information\n",
    "    with open(logfile, 'a') as log:\n",
    "        log.write(f'{timestamp};{status_code};{length};{output_path}' + \"\\n\") #Append the information and jump to the new line."
   ]
  },
  {
   "cell_type": "code",
   "execution_count": 108,
   "id": "095ef783-1307-4ed2-abf4-17fcc8cacc2b",
   "metadata": {
    "tags": []
   },
   "outputs": [],
   "source": [
    "from eod import EodHistoricalData\n",
    "client = EodHistoricalData(api)\n",
    "financial_data = Path.cwd()"
   ]
  },
  {
   "cell_type": "code",
   "execution_count": 130,
   "id": "24e622ce-2e4b-4dfe-a572-61740ea2f66f",
   "metadata": {
    "tags": []
   },
   "outputs": [],
   "source": [
    "nasdaq = pd.read_csv(\"NASDAQ All companies.csv\")\n",
    "nasdaq = nasdaq.sort_values(\"Market Cap\", ascending = False)\n",
    "nasdaq = nasdaq[:200].reset_index()\n",
    "tickers = nasdaq[\"Symbol\"].values"
   ]
  },
  {
   "cell_type": "markdown",
   "id": "2a82c472-0f5d-4f24-bd2a-62edccb3eefa",
   "metadata": {
    "tags": []
   },
   "source": [
    "### Get EoD stock prices"
   ]
  },
  {
   "cell_type": "code",
   "execution_count": 110,
   "id": "f5861e76-9b0d-485b-b589-7e8939bed0f6",
   "metadata": {
    "tags": []
   },
   "outputs": [],
   "source": [
    "eod_folder = Path.cwd()/\"Eod\" #path to create folder where end of day stock prices will be stored\n",
    "earnings_folder = Path.cwd()/\"earnings\"\n",
    "Path.mkdir(eod_folder, exist_ok=True)\n",
    "Path.mkdir(earnings_folder, exist_ok=True)"
   ]
  },
  {
   "cell_type": "code",
   "execution_count": 134,
   "id": "d8ae776c-3dbd-4bd1-b6b1-9a87583368bb",
   "metadata": {
    "tags": []
   },
   "outputs": [
    {
     "name": "stderr",
     "output_type": "stream",
     "text": [
      "5it [05:06, 61.26s/it]"
     ]
    },
    {
     "name": "stdout",
     "output_type": "stream",
     "text": [
      "Company NVDA was not retrieved\n"
     ]
    },
    {
     "name": "stderr",
     "output_type": "stream",
     "text": [
      "69it [7:55:41, 61.26s/it]  "
     ]
    },
    {
     "name": "stdout",
     "output_type": "stream",
     "text": [
      "Company FWONK was not retrieved\n"
     ]
    },
    {
     "name": "stderr",
     "output_type": "stream",
     "text": [
      "76it [8:03:52, 63.57s/it]"
     ]
    },
    {
     "name": "stdout",
     "output_type": "stream",
     "text": [
      "Company FWONA was not retrieved\n"
     ]
    },
    {
     "name": "stderr",
     "output_type": "stream",
     "text": [
      "165it [9:36:03, 62.36s/it]"
     ]
    },
    {
     "name": "stdout",
     "output_type": "stream",
     "text": [
      "Company LSXMB was not retrieved\n"
     ]
    },
    {
     "name": "stderr",
     "output_type": "stream",
     "text": [
      "172it [9:44:15, 64.25s/it]"
     ]
    },
    {
     "name": "stdout",
     "output_type": "stream",
     "text": [
      "Company LSXMK was not retrieved\n"
     ]
    },
    {
     "name": "stderr",
     "output_type": "stream",
     "text": [
      "176it [9:49:21, 68.45s/it]"
     ]
    },
    {
     "name": "stdout",
     "output_type": "stream",
     "text": [
      "Company LSXMA was not retrieved\n"
     ]
    },
    {
     "name": "stderr",
     "output_type": "stream",
     "text": [
      "200it [10:15:01, 184.51s/it]\n"
     ]
    }
   ],
   "source": [
    "logfile = Path.cwd()/f'financial_data_logs.csv'\n",
    "missing = []\n",
    "index_missing = []\n",
    "\n",
    "for i, ticker in tqdm.tqdm(enumerate(tickers)):\n",
    "    try:\n",
    "        df = stock_data(ticker) #save data of a single stock in dataframe\n",
    "        df_to_csv(df,ticker) #save dataframe to csv in folder 'Eod'\n",
    "        log(ticker, df, logfile)\n",
    "    except:\n",
    "        print(f'Company {ticker} was not retrieved')\n",
    "        missing.append(ticker)\n",
    "        index_missing.append(i)\n",
    "        time.sleep(60)\n",
    "    time.sleep(60)"
   ]
  },
  {
   "cell_type": "code",
   "execution_count": 135,
   "id": "a16b0d92-c8a1-4f60-ad9d-dde90b30a7de",
   "metadata": {},
   "outputs": [
    {
     "data": {
      "text/plain": [
       "[<matplotlib.lines.Line2D at 0x284ecf89d90>]"
      ]
     },
     "execution_count": 135,
     "metadata": {},
     "output_type": "execute_result"
    },
    {
     "data": {
      "image/png": "[encoded data removed]",
      "text/plain": [
       "<Figure size 640x480 with 1 Axes>"
      ]
     },
     "metadata": {},
     "output_type": "display_data"
    }
   ],
   "source": [
    "plt.plot(aapl[\"datetime\"],aapl[\"close\"])"
   ]
  },
  {
   "cell_type": "code",
   "execution_count": 136,
   "id": "a1ecf513-788a-42a9-90e3-7368ae6ee5f1",
   "metadata": {
    "tags": []
   },
   "outputs": [
    {
     "data": {
      "text/plain": [
       "['NVDA', 'FWONK', 'FWONA', 'LSXMB', 'LSXMK', 'LSXMA']"
      ]
     },
     "execution_count": 136,
     "metadata": {},
     "output_type": "execute_result"
    }
   ],
   "source": [
    "missing"
   ]
  },
  {
   "cell_type": "markdown",
   "id": "a00771f1-5f0f-4079-9125-cfafdbab076c",
   "metadata": {},
   "source": [
    "### Technicals using eodhd\n",
    "Apparently with no acces in our current plan"
   ]
  },
  {
   "cell_type": "code",
   "execution_count": 96,
   "id": "7b02425a-d05d-42cb-b3cb-c2635376211e",
   "metadata": {
    "tags": []
   },
   "outputs": [],
   "source": [
    "url = f'https://eodhistoricaldata.com/api/technical/{tickers[0]}.US?order=d&from=2020-01-01&to=2023-07-31&function=rsi&period=d&&api_token={api}&fmt=json'"
   ]
  },
  {
   "cell_type": "markdown",
   "id": "323659ca-3a0c-4269-ad55-f8ea0b27edb2",
   "metadata": {},
   "source": [
    "### Get earnings"
   ]
  },
  {
   "cell_type": "code",
   "execution_count": 39,
   "id": "1d0a85e7-d5dd-43e1-b705-f7ba107fcbc9",
   "metadata": {
    "tags": []
   },
   "outputs": [],
   "source": [
    "url = f\"http://eodhistoricaldata.com/api/fundamentals/AAPL.US?api_token={api}&filter=General::Code,General,Earnings\"\n",
    "resp = requests.get(url)"
   ]
  },
  {
   "cell_type": "code",
   "execution_count": 60,
   "id": "5e6d8a81-7a5a-4602-a86e-f1f8a14fb875",
   "metadata": {
    "tags": []
   },
   "outputs": [
    {
     "data": {
      "text/html": [
       "<div>\n",
       "<style scoped>\n",
       "    .dataframe tbody tr th:only-of-type {\n",
       "        vertical-align: middle;\n",
       "    }\n",
       "\n",
       "    .dataframe tbody tr th {\n",
       "        vertical-align: top;\n",
       "    }\n",
       "\n",
       "    .dataframe thead th {\n",
       "        text-align: right;\n",
       "    }\n",
       "</style>\n",
       "<table border=\"1\" class=\"dataframe\">\n",
       "  <thead>\n",
       "    <tr style=\"text-align: right;\">\n",
       "      <th></th>\n",
       "      <th>reportDate</th>\n",
       "      <th>date</th>\n",
       "      <th>beforeAfterMarket</th>\n",
       "      <th>currency</th>\n",
       "      <th>epsActual</th>\n",
       "      <th>epsEstimate</th>\n",
       "      <th>epsDifference</th>\n",
       "      <th>surprisePercent</th>\n",
       "    </tr>\n",
       "  </thead>\n",
       "  <tbody>\n",
       "    <tr>\n",
       "      <th>2023-06-30</th>\n",
       "      <td>2023-08-03</td>\n",
       "      <td>2023-06-30</td>\n",
       "      <td>AfterMarket</td>\n",
       "      <td>USD</td>\n",
       "      <td>1.26</td>\n",
       "      <td>1.19</td>\n",
       "      <td>0.07</td>\n",
       "      <td>5.8824</td>\n",
       "    </tr>\n",
       "    <tr>\n",
       "      <th>2023-03-31</th>\n",
       "      <td>2023-05-04</td>\n",
       "      <td>2023-03-31</td>\n",
       "      <td>AfterMarket</td>\n",
       "      <td>USD</td>\n",
       "      <td>1.52</td>\n",
       "      <td>1.43</td>\n",
       "      <td>0.09</td>\n",
       "      <td>6.2937</td>\n",
       "    </tr>\n",
       "    <tr>\n",
       "      <th>2022-12-31</th>\n",
       "      <td>2023-02-02</td>\n",
       "      <td>2022-12-31</td>\n",
       "      <td>AfterMarket</td>\n",
       "      <td>USD</td>\n",
       "      <td>1.88</td>\n",
       "      <td>1.94</td>\n",
       "      <td>-0.06</td>\n",
       "      <td>-3.0928</td>\n",
       "    </tr>\n",
       "    <tr>\n",
       "      <th>2022-09-30</th>\n",
       "      <td>2022-10-27</td>\n",
       "      <td>2022-09-30</td>\n",
       "      <td>AfterMarket</td>\n",
       "      <td>USD</td>\n",
       "      <td>1.29</td>\n",
       "      <td>1.27</td>\n",
       "      <td>0.02</td>\n",
       "      <td>1.5748</td>\n",
       "    </tr>\n",
       "    <tr>\n",
       "      <th>2022-06-30</th>\n",
       "      <td>2022-07-28</td>\n",
       "      <td>2022-06-30</td>\n",
       "      <td>AfterMarket</td>\n",
       "      <td>USD</td>\n",
       "      <td>1.2</td>\n",
       "      <td>1.16</td>\n",
       "      <td>0.04</td>\n",
       "      <td>3.4483</td>\n",
       "    </tr>\n",
       "    <tr>\n",
       "      <th>...</th>\n",
       "      <td>...</td>\n",
       "      <td>...</td>\n",
       "      <td>...</td>\n",
       "      <td>...</td>\n",
       "      <td>...</td>\n",
       "      <td>...</td>\n",
       "      <td>...</td>\n",
       "      <td>...</td>\n",
       "    </tr>\n",
       "    <tr>\n",
       "      <th>1994-12-31</th>\n",
       "      <td>1995-01-19</td>\n",
       "      <td>1994-12-31</td>\n",
       "      <td>None</td>\n",
       "      <td>USD</td>\n",
       "      <td>0.05</td>\n",
       "      <td>0.04</td>\n",
       "      <td>0.01</td>\n",
       "      <td>25</td>\n",
       "    </tr>\n",
       "    <tr>\n",
       "      <th>1994-09-30</th>\n",
       "      <td>1994-10-17</td>\n",
       "      <td>1994-09-30</td>\n",
       "      <td>None</td>\n",
       "      <td>USD</td>\n",
       "      <td>0.03</td>\n",
       "      <td>0.03</td>\n",
       "      <td>0</td>\n",
       "      <td>0</td>\n",
       "    </tr>\n",
       "    <tr>\n",
       "      <th>1994-06-30</th>\n",
       "      <td>1994-06-30</td>\n",
       "      <td>1994-06-30</td>\n",
       "      <td>None</td>\n",
       "      <td>USD</td>\n",
       "      <td>0.0104</td>\n",
       "      <td>None</td>\n",
       "      <td>None</td>\n",
       "      <td>None</td>\n",
       "    </tr>\n",
       "    <tr>\n",
       "      <th>1994-03-31</th>\n",
       "      <td>1994-03-31</td>\n",
       "      <td>1994-03-31</td>\n",
       "      <td>None</td>\n",
       "      <td>USD</td>\n",
       "      <td>0.0104</td>\n",
       "      <td>None</td>\n",
       "      <td>None</td>\n",
       "      <td>None</td>\n",
       "    </tr>\n",
       "    <tr>\n",
       "      <th>1993-12-31</th>\n",
       "      <td>1993-12-31</td>\n",
       "      <td>1993-12-31</td>\n",
       "      <td>None</td>\n",
       "      <td>USD</td>\n",
       "      <td>0.0031</td>\n",
       "      <td>None</td>\n",
       "      <td>None</td>\n",
       "      <td>None</td>\n",
       "    </tr>\n",
       "  </tbody>\n",
       "</table>\n",
       "<p>113 rows × 8 columns</p>\n",
       "</div>"
      ],
      "text/plain": [
       "            reportDate        date beforeAfterMarket currency epsActual  \\\n",
       "2023-06-30  2023-08-03  2023-06-30       AfterMarket      USD      1.26   \n",
       "2023-03-31  2023-05-04  2023-03-31       AfterMarket      USD      1.52   \n",
       "2022-12-31  2023-02-02  2022-12-31       AfterMarket      USD      1.88   \n",
       "2022-09-30  2022-10-27  2022-09-30       AfterMarket      USD      1.29   \n",
       "2022-06-30  2022-07-28  2022-06-30       AfterMarket      USD       1.2   \n",
       "...                ...         ...               ...      ...       ...   \n",
       "1994-12-31  1995-01-19  1994-12-31              None      USD      0.05   \n",
       "1994-09-30  1994-10-17  1994-09-30              None      USD      0.03   \n",
       "1994-06-30  1994-06-30  1994-06-30              None      USD    0.0104   \n",
       "1994-03-31  1994-03-31  1994-03-31              None      USD    0.0104   \n",
       "1993-12-31  1993-12-31  1993-12-31              None      USD    0.0031   \n",
       "\n",
       "           epsEstimate epsDifference surprisePercent  \n",
       "2023-06-30        1.19          0.07          5.8824  \n",
       "2023-03-31        1.43          0.09          6.2937  \n",
       "2022-12-31        1.94         -0.06         -3.0928  \n",
       "2022-09-30        1.27          0.02          1.5748  \n",
       "2022-06-30        1.16          0.04          3.4483  \n",
       "...                ...           ...             ...  \n",
       "1994-12-31        0.04          0.01              25  \n",
       "1994-09-30        0.03             0               0  \n",
       "1994-06-30        None          None            None  \n",
       "1994-03-31        None          None            None  \n",
       "1993-12-31        None          None            None  \n",
       "\n",
       "[113 rows x 8 columns]"
      ]
     },
     "execution_count": 60,
     "metadata": {},
     "output_type": "execute_result"
    }
   ],
   "source": [
    "earnings = pd.DataFrame(resp.json()[\"Earnings\"][\"History\"]).T\n",
    "earnings = earnings[earnings[\"beforeAfterMarket\"]!=\"BeforeMarket\"]\n",
    "earnings"
   ]
  },
  {
   "cell_type": "code",
   "execution_count": 61,
   "id": "b3773c8e-0c2f-444e-a077-f4d367c26d93",
   "metadata": {
    "tags": []
   },
   "outputs": [],
   "source": [
    "url = f\"https://eodhistoricaldata.com/api/fundamentals/AAPL.US?api_token={api}\"\n",
    "resp = requests.get(url)"
   ]
  }
 ],
 "metadata": {
  "kernelspec": {
   "display_name": "Python 3 (ipykernel)",
   "language": "python",
   "name": "python3"
  },
  "language_info": {
   "codemirror_mode": {
    "name": "ipython",
    "version": 3
   },
   "file_extension": ".py",
   "mimetype": "text/x-python",
   "name": "python",
   "nbconvert_exporter": "python",
   "pygments_lexer": "ipython3",
   "version": "3.11.3"
  }
 },
 "nbformat": 4,
 "nbformat_minor": 5
}
