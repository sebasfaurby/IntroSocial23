{
 "cells": [
  {
   "cell_type": "code",
   "execution_count": 10,
   "id": "3e4ca72f-d6d7-4b2d-a12e-e8799a6a6645",
   "metadata": {
    "tags": []
   },
   "outputs": [],
   "source": [
    "import warnings\n",
    "from sklearn.exceptions import ConvergenceWarning\n",
    "warnings.filterwarnings(action='ignore', category=ConvergenceWarning)\n",
    "\n",
    "import matplotlib.pyplot as plt\n",
    "import numpy as np\n",
    "import pandas as pd\n",
    "import seaborn as sns\n",
    "\n",
    "from sklearn.linear_model import LinearRegression, Lasso\n",
    "from sklearn.metrics import mean_squared_error as mse\n",
    "\n",
    "%matplotlib inline"
   ]
  },
  {
   "cell_type": "code",
   "execution_count": 11,
   "id": "e0f0169d-c082-43db-85d0-37e764ec0971",
   "metadata": {
    "tags": []
   },
   "outputs": [
    {
     "data": {
      "text/html": [
       "<div>\n",
       "<style scoped>\n",
       "    .dataframe tbody tr th:only-of-type {\n",
       "        vertical-align: middle;\n",
       "    }\n",
       "\n",
       "    .dataframe tbody tr th {\n",
       "        vertical-align: top;\n",
       "    }\n",
       "\n",
       "    .dataframe thead th {\n",
       "        text-align: right;\n",
       "    }\n",
       "</style>\n",
       "<table border=\"1\" class=\"dataframe\">\n",
       "  <thead>\n",
       "    <tr style=\"text-align: right;\">\n",
       "      <th></th>\n",
       "      <th>Index</th>\n",
       "      <th>Ticker</th>\n",
       "    </tr>\n",
       "  </thead>\n",
       "  <tbody>\n",
       "    <tr>\n",
       "      <th>0</th>\n",
       "      <td>0</td>\n",
       "      <td>AAPL</td>\n",
       "    </tr>\n",
       "    <tr>\n",
       "      <th>1</th>\n",
       "      <td>1</td>\n",
       "      <td>MSFT</td>\n",
       "    </tr>\n",
       "    <tr>\n",
       "      <th>2</th>\n",
       "      <td>2</td>\n",
       "      <td>GOOG</td>\n",
       "    </tr>\n",
       "    <tr>\n",
       "      <th>3</th>\n",
       "      <td>3</td>\n",
       "      <td>GOOGL</td>\n",
       "    </tr>\n",
       "    <tr>\n",
       "      <th>4</th>\n",
       "      <td>4</td>\n",
       "      <td>AMZN</td>\n",
       "    </tr>\n",
       "    <tr>\n",
       "      <th>...</th>\n",
       "      <td>...</td>\n",
       "      <td>...</td>\n",
       "    </tr>\n",
       "    <tr>\n",
       "      <th>1951</th>\n",
       "      <td>1951</td>\n",
       "      <td>VWE</td>\n",
       "    </tr>\n",
       "    <tr>\n",
       "      <th>1952</th>\n",
       "      <td>1952</td>\n",
       "      <td>RCAT</td>\n",
       "    </tr>\n",
       "    <tr>\n",
       "      <th>1953</th>\n",
       "      <td>1953</td>\n",
       "      <td>CURI</td>\n",
       "    </tr>\n",
       "    <tr>\n",
       "      <th>1954</th>\n",
       "      <td>1954</td>\n",
       "      <td>NSTS</td>\n",
       "    </tr>\n",
       "    <tr>\n",
       "      <th>1955</th>\n",
       "      <td>1955</td>\n",
       "      <td>STIM</td>\n",
       "    </tr>\n",
       "  </tbody>\n",
       "</table>\n",
       "<p>1956 rows × 2 columns</p>\n",
       "</div>"
      ],
      "text/plain": [
       "      Index Ticker\n",
       "0         0   AAPL\n",
       "1         1   MSFT\n",
       "2         2   GOOG\n",
       "3         3  GOOGL\n",
       "4         4   AMZN\n",
       "...     ...    ...\n",
       "1951   1951    VWE\n",
       "1952   1952   RCAT\n",
       "1953   1953   CURI\n",
       "1954   1954   NSTS\n",
       "1955   1955   STIM\n",
       "\n",
       "[1956 rows x 2 columns]"
      ]
     },
     "execution_count": 11,
     "metadata": {},
     "output_type": "execute_result"
    }
   ],
   "source": [
    "#Get data\n",
    "data = pd.read_csv('Master_with_technicals_news.csv')\n",
    "\n",
    "#Get ticker data\n",
    "tickers = pd.read_csv(\"tickers_list_news.csv\")['0'].values\n",
    "#Create ticker dataframe\n",
    "index = []\n",
    "for i in range(len(tickers)):\n",
    "    index.append(i)\n",
    "tickers_df = pd.DataFrame({'Index':index, 'Ticker':tickers})\n",
    "tickers_df"
   ]
  },
  {
   "cell_type": "code",
   "execution_count": 12,
   "id": "f5100d55-b535-4219-b2d0-a578f614f286",
   "metadata": {
    "tags": []
   },
   "outputs": [
    {
     "data": {
      "text/plain": [
       "0        -1.250000\n",
       "1        -0.541272\n",
       "2        -0.450450\n",
       "3         1.223862\n",
       "4         1.602217\n",
       "            ...   \n",
       "494863   -3.300914\n",
       "494864   -1.279318\n",
       "494865   -2.183406\n",
       "494866   -1.875384\n",
       "494867   -3.571429\n",
       "Name: prev_returns, Length: 494868, dtype: float64"
      ]
     },
     "execution_count": 12,
     "metadata": {},
     "output_type": "execute_result"
    }
   ],
   "source": [
    "#split data into X and Y\n",
    "X = data.copy()\n",
    "#Convert ticker to numbers in order to separate companies \n",
    "for i in range(tickers):\n",
    "    for j in range(tickers):\n",
    "        if X[\"Ticker\"]==tickers_df:\n",
    "        \n",
    "        \n",
    "X = data.drop([\"date\",\"returns_pred\"], axis = 1)\n",
    "\n",
    "Y = data[\"prev_returns\"].copy()\n",
    "Y\n"
   ]
  },
  {
   "cell_type": "code",
   "execution_count": null,
   "id": "b275f696-9fcb-4825-afe4-2214cfed1de9",
   "metadata": {},
   "outputs": [],
   "source": [
    "pipe_lasso = make_pipeline(\n",
    "    PolynomialFeatures(degree=3, include_bias=False),\n",
    "    StandardScaler(),\n",
    "    Lasso(random_state=1),\n",
    ")"
   ]
  }
 ],
 "metadata": {
  "kernelspec": {
   "display_name": "Python 3 (ipykernel)",
   "language": "python",
   "name": "python3"
  },
  "language_info": {
   "codemirror_mode": {
    "name": "ipython",
    "version": 3
   },
   "file_extension": ".py",
   "mimetype": "text/x-python",
   "name": "python",
   "nbconvert_exporter": "python",
   "pygments_lexer": "ipython3",
   "version": "3.11.3"
  }
 },
 "nbformat": 4,
 "nbformat_minor": 5
}
