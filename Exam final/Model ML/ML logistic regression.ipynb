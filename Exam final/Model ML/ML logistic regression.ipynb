{
 "cells": [
  {
   "cell_type": "code",
   "execution_count": 33,
   "metadata": {},
   "outputs": [],
   "source": [
    "## Logistic regression\n",
    "\n",
    "# Importing the libraries\n",
    "import numpy as np\n",
    "import matplotlib.pyplot as plt\n",
    "import pandas as pd\n",
    "\n",
    "\n"
   ]
  },
  {
   "cell_type": "code",
   "execution_count": 34,
   "metadata": {},
   "outputs": [],
   "source": [
    "# import Final_df.csv\n",
    "Path_final_df = 'C:/Users/Soren/Documents/GitHub/IntroSocial23/Exam final version/Final scripts'\n",
    "\n",
    "df_ML = pd.read_csv(Path_final_df+'/Final_df.csv', sep=';', encoding='utf-8')\n",
    "\n"
   ]
  },
  {
   "cell_type": "code",
   "execution_count": 35,
   "metadata": {},
   "outputs": [
    {
     "name": "stdout",
     "output_type": "stream",
     "text": [
      "Unexpected exception formatting exception. Falling back to standard exception\n"
     ]
    },
    {
     "name": "stderr",
     "output_type": "stream",
     "text": [
      "Traceback (most recent call last):\n",
      "  File \"C:\\Users\\Soren\\AppData\\Roaming\\Python\\Python310\\site-packages\\pandas\\core\\generic.py\", line 513, in _get_axis_number\n",
      "    return cls._AXIS_TO_AXIS_NUMBER[axis]\n",
      "KeyError: 5\n",
      "\n",
      "During handling of the above exception, another exception occurred:\n",
      "\n",
      "Traceback (most recent call last):\n",
      "  File \"c:\\Users\\Soren\\.conda\\envs\\pydata-book\\lib\\site-packages\\IPython\\core\\interactiveshell.py\", line 3508, in run_code\n",
      "    exec(code_obj, self.user_global_ns, self.user_ns)\n",
      "  File \"C:\\Users\\Soren\\AppData\\Local\\Temp\\ipykernel_9892\\92550947.py\", line 9, in <module>\n",
      "    np.max(df_ML['returns'],5)\n",
      "  File \"<__array_function__ internals>\", line 5, in amax\n",
      "  File \"C:\\Users\\Soren\\AppData\\Roaming\\Python\\Python310\\site-packages\\numpy\\core\\fromnumeric.py\", line 2754, in amax\n",
      "    return _wrapreduction(a, np.maximum, 'max', axis, None, out,\n",
      "  File \"C:\\Users\\Soren\\AppData\\Roaming\\Python\\Python310\\site-packages\\numpy\\core\\fromnumeric.py\", line 84, in _wrapreduction\n",
      "    return reduction(axis=axis, out=out, **passkwargs)\n",
      "  File \"C:\\Users\\Soren\\AppData\\Roaming\\Python\\Python310\\site-packages\\pandas\\core\\generic.py\", line 11646, in max\n",
      "    return NDFrame.max(self, axis, skipna, numeric_only, **kwargs)\n",
      "  File \"C:\\Users\\Soren\\AppData\\Roaming\\Python\\Python310\\site-packages\\pandas\\core\\generic.py\", line 11185, in max\n",
      "    return self._stat_function(\n",
      "  File \"C:\\Users\\Soren\\AppData\\Roaming\\Python\\Python310\\site-packages\\pandas\\core\\generic.py\", line 11158, in _stat_function\n",
      "    return self._reduce(\n",
      "  File \"C:\\Users\\Soren\\AppData\\Roaming\\Python\\Python310\\site-packages\\pandas\\core\\series.py\", line 4652, in _reduce\n",
      "    self._get_axis_number(axis)\n",
      "  File \"C:\\Users\\Soren\\AppData\\Roaming\\Python\\Python310\\site-packages\\pandas\\core\\generic.py\", line 515, in _get_axis_number\n",
      "    raise ValueError(f\"No axis named {axis} for object type {cls.__name__}\")\n",
      "ValueError: No axis named 5 for object type Series\n",
      "\n",
      "During handling of the above exception, another exception occurred:\n",
      "\n",
      "Traceback (most recent call last):\n",
      "  File \"c:\\Users\\Soren\\.conda\\envs\\pydata-book\\lib\\site-packages\\IPython\\core\\interactiveshell.py\", line 2105, in showtraceback\n",
      "    stb = self.InteractiveTB.structured_traceback(\n",
      "  File \"c:\\Users\\Soren\\.conda\\envs\\pydata-book\\lib\\site-packages\\IPython\\core\\ultratb.py\", line 1428, in structured_traceback\n",
      "    return FormattedTB.structured_traceback(\n",
      "  File \"c:\\Users\\Soren\\.conda\\envs\\pydata-book\\lib\\site-packages\\IPython\\core\\ultratb.py\", line 1319, in structured_traceback\n",
      "    return VerboseTB.structured_traceback(\n",
      "  File \"c:\\Users\\Soren\\.conda\\envs\\pydata-book\\lib\\site-packages\\IPython\\core\\ultratb.py\", line 1172, in structured_traceback\n",
      "    formatted_exception = self.format_exception_as_a_whole(etype, evalue, etb, number_of_lines_of_context,\n",
      "  File \"c:\\Users\\Soren\\.conda\\envs\\pydata-book\\lib\\site-packages\\IPython\\core\\ultratb.py\", line 1062, in format_exception_as_a_whole\n",
      "    self.get_records(etb, number_of_lines_of_context, tb_offset) if etb else []\n",
      "  File \"c:\\Users\\Soren\\.conda\\envs\\pydata-book\\lib\\site-packages\\IPython\\core\\ultratb.py\", line 1154, in get_records\n",
      "    FrameInfo(\n",
      "  File \"c:\\Users\\Soren\\.conda\\envs\\pydata-book\\lib\\site-packages\\IPython\\core\\ultratb.py\", line 780, in __init__\n",
      "    ix = inspect.getsourcelines(frame)\n",
      "  File \"c:\\Users\\Soren\\.conda\\envs\\pydata-book\\lib\\inspect.py\", line 1121, in getsourcelines\n",
      "    lines, lnum = findsource(object)\n",
      "  File \"c:\\Users\\Soren\\.conda\\envs\\pydata-book\\lib\\inspect.py\", line 958, in findsource\n",
      "    raise OSError('could not get source code')\n",
      "OSError: could not get source code\n"
     ]
    },
    {
     "data": {
      "image/png": "[encoded data removed]",
      "text/plain": [
       "<Figure size 640x480 with 1 Axes>"
      ]
     },
     "metadata": {},
     "output_type": "display_data"
    }
   ],
   "source": [
    "df_ML.head()\n",
    "\n",
    "\n",
    "\n",
    "# Histogram of the returns using matplotlib\n",
    "plt.hist(df_ML['returns'], bins=1000)\n",
    "# plt.axis([-150, 15, 0, 120000])\n",
    "\n",
    "np.max(df_ML['returns'],5)\n",
    "# # Make a column with returns split in 3 equally sized groups\n",
    "# df_ML['returns_group'] = pd.qcut(df_ML['returns'], 3, labels=[\"low\", \"medium\", \"high\"])\n",
    "\n",
    "print(df_ML[df_ML['returns'] > 1000])\n",
    "\n",
    "# df_ML[df_ML['']]"
   ]
  },
  {
   "cell_type": "code",
   "execution_count": null,
   "metadata": {},
   "outputs": [],
   "source": []
  }
 ],
 "metadata": {
  "kernelspec": {
   "display_name": "pydata-book",
   "language": "python",
   "name": "python3"
  },
  "language_info": {
   "codemirror_mode": {
    "name": "ipython",
    "version": 3
   },
   "file_extension": ".py",
   "mimetype": "text/x-python",
   "name": "python",
   "nbconvert_exporter": "python",
   "pygments_lexer": "ipython3",
   "version": "3.10.12"
  },
  "orig_nbformat": 4
 },
 "nbformat": 4,
 "nbformat_minor": 2
}
